{
 "cells": [
  {
   "cell_type": "code",
   "execution_count": 2,
   "metadata": {},
   "outputs": [],
   "source": [
    "import re\n",
    "\n"
   ]
  },
  {
   "cell_type": "code",
   "execution_count": 3,
   "metadata": {},
   "outputs": [],
   "source": [
    "filePath = \"/root/compdata/aiia/normal.txt\"\n",
    "outputfile = \"/root/Datasets/normal_new.txt\"\n",
    "\n",
    "output_f = open(outputfile, mode='w')\n",
    "\n",
    "with open(filePath) as f:\n",
    "    for line in f:\n",
    "        matchObj = re.match(\"([0-9]+)\\s.*\\-\\]\\s(.*)\", line, re.S)\n",
    "        output_f.write(matchObj.group(1)+' '+matchObj.group(2))\n",
    "        \n",
    "output_f.close()\n",
    "    "
   ]
  },
  {
   "cell_type": "code",
   "execution_count": null,
   "metadata": {},
   "outputs": [],
   "source": []
  }
 ],
 "metadata": {
  "kernelspec": {
   "display_name": "Python 3",
   "language": "python",
   "name": "python3"
  },
  "language_info": {
   "codemirror_mode": {
    "name": "ipython",
    "version": 3
   },
   "file_extension": ".py",
   "mimetype": "text/x-python",
   "name": "python",
   "nbconvert_exporter": "python",
   "pygments_lexer": "ipython3",
   "version": "3.6.9"
  }
 },
 "nbformat": 4,
 "nbformat_minor": 4
}
