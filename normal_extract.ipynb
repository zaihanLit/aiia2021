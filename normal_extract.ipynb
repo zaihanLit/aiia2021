{
 "cells": [
  {
   "cell_type": "code",
   "execution_count": 2,
   "metadata": {},
   "outputs": [],
   "source": [
    "import re\n",
    "\n",
    "string = '''9460 2021-05-21 15:43:13.106 415956 INFO neutron.plugins.ml2.drivers.agent._common_agent [req-077a4a95-986d-409c-a2c1-c7f3c63a80cc - - - - -] Port tapaeb03d7b-f0 updated. Details: {u'profile': {}, u'network_qos_policy\n",
    "_id': None, u'qos_policy_id': None, u'allowed_address_pairs': [], u'admin_state_up': True, u'network_id': u'cd413b9f-77de-462c-afb2-ffc0e91b75c7', u'segmentation_id': 20, u'device_owner': u'compute:nova', u'physical_n\n",
    "etwork': None, u'mac_address': u'fa:16:3e:f2:d6:b7', u'device': u'tapaeb03d7b-f0', u'port_security_enabled': True, u'port_id': u'aeb03d7b-f07a-41ca-9051-f4f58a7ccb52', u'fixed_ips': [{u'subnet_id': u'c197d80a-6716-46d\n",
    "7-b6a8-3fbf52d7bfc9', u'ip_address': u'10.0.0.16'}], u'network_type': u'vxlan', u'security_groups': [u'b059babb-88bb-4cac-be72-07a559099114']})'''\n"
   ]
  },
  {
   "cell_type": "code",
   "execution_count": 26,
   "metadata": {},
   "outputs": [],
   "source": [
    "filePath = \"/root/compdata/aiia/normal.txt\"\n",
    "outputfile = \"/root/aiia2021/normal_new.txt\"\n",
    "\n",
    "output_f = open(outputfile, mode='w')\n",
    "\n",
    "with open(filePath) as f:\n",
    "    for line in f:\n",
    "        matchObj = re.match(\"([0-9]+)\\s.*\\-\\]\\s(.*)\", line, re.S)\n",
    "        output_f.write(matchObj.group(1)+' '+matchObj.group(2))\n",
    "        \n",
    "output_f.close()\n",
    "    "
   ]
  }
 ],
 "metadata": {
  "kernelspec": {
   "display_name": "Python 3",
   "language": "python",
   "name": "python3"
  },
  "language_info": {
   "codemirror_mode": {
    "name": "ipython",
    "version": 3
   },
   "file_extension": ".py",
   "mimetype": "text/x-python",
   "name": "python",
   "nbconvert_exporter": "python",
   "pygments_lexer": "ipython3",
   "version": "3.6.9"
  }
 },
 "nbformat": 4,
 "nbformat_minor": 4
}
